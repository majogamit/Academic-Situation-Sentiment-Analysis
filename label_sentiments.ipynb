{
 "cells": [
  {
   "cell_type": "markdown",
   "id": "devoted-manner",
   "metadata": {},
   "source": [
    "## Label Sentiments"
   ]
  },
  {
   "cell_type": "code",
   "execution_count": 1,
   "id": "worth-vertex",
   "metadata": {},
   "outputs": [],
   "source": [
    "# main libraries\n",
    "import numpy as np\n",
    "import pandas as pd\n",
    "import matplotlib.pyplot as plt\n",
    "import seaborn as sns\n",
    "import nltk\n",
    "\n",
    "# For Data processing/cleaning\n",
    "from sklearn.feature_extraction.text import CountVectorizer\n",
    "from sklearn.preprocessing import LabelBinarizer\n",
    "from nltk.corpus import stopwords\n",
    "from nltk.stem.porter import PorterStemmer\n",
    "from wordcloud import STOPWORDS\n",
    "from bs4 import BeautifulSoup\n",
    "import re\n",
    "from nltk.tokenize.toktok import ToktokTokenizer\n",
    "import os\n",
    "import warnings\n",
    "from numpy import loadtxt\n",
    "from nltk import tokenize\n",
    "\n",
    "# import WhitespaceTokenizer() method from nltk\n",
    "from nltk.tokenize import WhitespaceTokenizer"
   ]
  },
  {
   "cell_type": "code",
   "execution_count": 2,
   "id": "substantial-stone",
   "metadata": {},
   "outputs": [],
   "source": [
    "dataset = pd.read_csv(\"03_Data_with_sentiment.csv\")"
   ]
  },
  {
   "cell_type": "markdown",
   "id": "ordered-interim",
   "metadata": {},
   "source": [
    "# Combine English and Tagalog Stopwords"
   ]
  },
  {
   "cell_type": "code",
   "execution_count": 3,
   "id": "disabled-lying",
   "metadata": {},
   "outputs": [],
   "source": [
    "#import text file into NumPy array\n",
    "neg_fil = loadtxt('negative_words_tl.txt', dtype='object')\n",
    "pos_fil = loadtxt('positive_words_tl.txt', dtype='object')\n",
    "badwords_fil = [\"amputa\",\"animal ka\",\"bilat\", \"bosit\", \"bwiset\", \"binibrocha\",\"bobo\",\"bogo\",\"boto\",\"brocha\",\"burat\",\"bwesit\",\"bwisit\",\"demonyo ka\",\"engot\",\"etits\",\"gaga\",\"gagi\",\"gago\",\"habal\",\"hayop ka\",\"hayup\",\"hinampak\",\"hinayupak\",\"hindot\",\"hindutan\",\"hudas\",\"iniyot\",\"inutel\",\"inutil\",\"iyot\",\"kagaguhan\",\"kagang\",\"kantot\",\"kantotan\",\"kantut\",\"kantutan\",\"kaululan\",\"kayat\",\"kiki\",\"kikinginamo\",\"kingina\",\"kupal\",\"leche\",\"leching\",\"lechugas\",\"lintik\",\"nakakaburat\",\"nimal\",\"ogag\",\"olok\",\"pakingshet\",\"pakshet\",\"pakyu\",\"pesteng yawa\",\"poke\",\"poki\",\"pokpok\",\"poyet\",\"pu'keng\",\"pucha\",\"puchanggala\",\"puchangina\",\"puke\",\"puki\",\"pukinangina\",\"puking\",\"punyeta\",\"puta\",\"putang\",\"putang ina\",\"putangina\",\"putanginamo\",\"putaragis\",\"putragis\",\"puyet\",\"ratbu\",\"shunga\",\"shuta\", \"sira ulo\",\"siraulo\",\"suso\",\"susu\",\"tae\",\"taena\", \"taenang\", \"tamod\",\"tanga\",\"tangina\",\"tngina\", \"taragis\",\"tarantado\",\"tete\",\"teti\",\"timang\",\"tinil\",\"tite\",\"titi\",\"tungaw\",\"ulol\",\"ulul\",\"ungas\"]"
   ]
  },
  {
   "cell_type": "code",
   "execution_count": 4,
   "id": "physical-steam",
   "metadata": {},
   "outputs": [],
   "source": [
    "neg_fil = np.concatenate((neg_fil, badwords_fil))"
   ]
  },
  {
   "cell_type": "code",
   "execution_count": 5,
   "id": "solid-blast",
   "metadata": {},
   "outputs": [],
   "source": [
    "neg_eng = loadtxt('negative_words_en.txt', dtype='object')\n",
    "pos_eng = loadtxt('positive_words_en.txt', dtype='object')"
   ]
  },
  {
   "cell_type": "code",
   "execution_count": 6,
   "id": "fatty-russell",
   "metadata": {},
   "outputs": [],
   "source": [
    "negative_data = np.concatenate((neg_fil, neg_eng))\n",
    "positive_data = np.concatenate((pos_fil, pos_eng))"
   ]
  },
  {
   "cell_type": "code",
   "execution_count": 7,
   "id": "regulation-broadcasting",
   "metadata": {},
   "outputs": [
    {
     "data": {
      "text/plain": [
       "(5970,)"
      ]
     },
     "execution_count": 7,
     "metadata": {},
     "output_type": "execute_result"
    }
   ],
   "source": [
    "negative_data.shape"
   ]
  },
  {
   "cell_type": "code",
   "execution_count": 8,
   "id": "invisible-mitchell",
   "metadata": {},
   "outputs": [
    {
     "data": {
      "text/plain": [
       "(2818,)"
      ]
     },
     "execution_count": 8,
     "metadata": {},
     "output_type": "execute_result"
    }
   ],
   "source": [
    "positive_data.shape"
   ]
  },
  {
   "cell_type": "markdown",
   "id": "immediate-traveler",
   "metadata": {},
   "source": [
    "# Crount positive and negative occurance\n",
    "Rule-based sentiment labeling"
   ]
  },
  {
   "cell_type": "code",
   "execution_count": 9,
   "id": "latin-boating",
   "metadata": {},
   "outputs": [],
   "source": [
    "dataset = dataset[['absolute_tidy_tweets', 'stopped_tweets']]"
   ]
  },
  {
   "cell_type": "code",
   "execution_count": 10,
   "id": "conscious-easter",
   "metadata": {
    "scrolled": true
   },
   "outputs": [
    {
     "data": {
      "text/html": [
       "<div>\n",
       "<style scoped>\n",
       "    .dataframe tbody tr th:only-of-type {\n",
       "        vertical-align: middle;\n",
       "    }\n",
       "\n",
       "    .dataframe tbody tr th {\n",
       "        vertical-align: top;\n",
       "    }\n",
       "\n",
       "    .dataframe thead th {\n",
       "        text-align: right;\n",
       "    }\n",
       "</style>\n",
       "<table border=\"1\" class=\"dataframe\">\n",
       "  <thead>\n",
       "    <tr style=\"text-align: right;\">\n",
       "      <th></th>\n",
       "      <th>absolute_tidy_tweets</th>\n",
       "      <th>stopped_tweets</th>\n",
       "    </tr>\n",
       "  </thead>\n",
       "  <tbody>\n",
       "    <tr>\n",
       "      <th>0</th>\n",
       "      <td>academicbreaknow</td>\n",
       "      <td>academicbreaknow</td>\n",
       "    </tr>\n",
       "    <tr>\n",
       "      <th>1</th>\n",
       "      <td>Hello AcademicTwitter You need to have a rest ...</td>\n",
       "      <td>hello academictwitter need rest activate best ...</td>\n",
       "    </tr>\n",
       "    <tr>\n",
       "      <th>2</th>\n",
       "      <td>lunes nanaman bukas academicbreaknow</td>\n",
       "      <td>lunes nanaman bukas academicbreaknow</td>\n",
       "    </tr>\n",
       "    <tr>\n",
       "      <th>3</th>\n",
       "      <td>AcademicBreakNow gusto q na tapusin Wednesday</td>\n",
       "      <td>academicbreaknow q tapusin wednesday</td>\n",
       "    </tr>\n",
       "    <tr>\n",
       "      <th>4</th>\n",
       "      <td>super delay na ako sa tbw list ko academicbrea...</td>\n",
       "      <td>super delay tbw list academicbreaknow</td>\n",
       "    </tr>\n",
       "    <tr>\n",
       "      <th>...</th>\n",
       "      <td>...</td>\n",
       "      <td>...</td>\n",
       "    </tr>\n",
       "    <tr>\n",
       "      <th>29588</th>\n",
       "      <td>si taylor nay nag implement ug academic break</td>\n",
       "      <td>si taylor nay nag implement ug academic break</td>\n",
       "    </tr>\n",
       "    <tr>\n",
       "      <th>29589</th>\n",
       "      <td>Actually Lenin wasn t peer reviewed by establi...</td>\n",
       "      <td>actually lenin peer reviewed established acade...</td>\n",
       "    </tr>\n",
       "    <tr>\n",
       "      <th>29590</th>\n",
       "      <td>Academic break plss</td>\n",
       "      <td>academic break plss</td>\n",
       "    </tr>\n",
       "    <tr>\n",
       "      <th>29591</th>\n",
       "      <td>tangina hirap magpa chill chill hahaha daming ...</td>\n",
       "      <td>tangina hirap magpa chill chill hahaha daming ...</td>\n",
       "    </tr>\n",
       "    <tr>\n",
       "      <th>29592</th>\n",
       "      <td>Nakakatuwa ang tamad ko pero gusto ko ng acade...</td>\n",
       "      <td>nakakatuwa tamad academic freeze ganito putangina</td>\n",
       "    </tr>\n",
       "  </tbody>\n",
       "</table>\n",
       "<p>29593 rows × 2 columns</p>\n",
       "</div>"
      ],
      "text/plain": [
       "                                    absolute_tidy_tweets  \\\n",
       "0                                       academicbreaknow   \n",
       "1      Hello AcademicTwitter You need to have a rest ...   \n",
       "2                   lunes nanaman bukas academicbreaknow   \n",
       "3          AcademicBreakNow gusto q na tapusin Wednesday   \n",
       "4      super delay na ako sa tbw list ko academicbrea...   \n",
       "...                                                  ...   \n",
       "29588      si taylor nay nag implement ug academic break   \n",
       "29589  Actually Lenin wasn t peer reviewed by establi...   \n",
       "29590                                Academic break plss   \n",
       "29591  tangina hirap magpa chill chill hahaha daming ...   \n",
       "29592  Nakakatuwa ang tamad ko pero gusto ko ng acade...   \n",
       "\n",
       "                                          stopped_tweets  \n",
       "0                                       academicbreaknow  \n",
       "1      hello academictwitter need rest activate best ...  \n",
       "2                   lunes nanaman bukas academicbreaknow  \n",
       "3                   academicbreaknow q tapusin wednesday  \n",
       "4                  super delay tbw list academicbreaknow  \n",
       "...                                                  ...  \n",
       "29588      si taylor nay nag implement ug academic break  \n",
       "29589  actually lenin peer reviewed established acade...  \n",
       "29590                                academic break plss  \n",
       "29591  tangina hirap magpa chill chill hahaha daming ...  \n",
       "29592  nakakatuwa tamad academic freeze ganito putangina  \n",
       "\n",
       "[29593 rows x 2 columns]"
      ]
     },
     "execution_count": 10,
     "metadata": {},
     "output_type": "execute_result"
    }
   ],
   "source": [
    "dataset"
   ]
  },
  {
   "cell_type": "code",
   "execution_count": 11,
   "id": "disciplinary-killer",
   "metadata": {},
   "outputs": [],
   "source": [
    "def label_positive(text):\n",
    "    tk = WhitespaceTokenizer()\n",
    "    tokens = tk.tokenize(text)\n",
    "    tokens = [token.strip() for token in tokens]\n",
    "    positive = 0\n",
    "    for token in tokens:\n",
    "        if token in positive_data:\n",
    "            positive = positive + 1\n",
    "    return positive"
   ]
  },
  {
   "cell_type": "code",
   "execution_count": 12,
   "id": "convinced-marble",
   "metadata": {},
   "outputs": [],
   "source": [
    "def label_negative(text):\n",
    "    tk = WhitespaceTokenizer()\n",
    "    tokens = tk.tokenize(text)\n",
    "    tokens = [token.strip() for token in tokens]\n",
    "    negative = 0\n",
    "    for token in tokens:\n",
    "        if token in negative_data:\n",
    "            negative = negative -1\n",
    "    return negative\n"
   ]
  },
  {
   "cell_type": "code",
   "execution_count": 13,
   "id": "approved-technical",
   "metadata": {},
   "outputs": [],
   "source": [
    "dataset = dataset.dropna()"
   ]
  },
  {
   "cell_type": "code",
   "execution_count": 14,
   "id": "complicated-tanzania",
   "metadata": {},
   "outputs": [
    {
     "name": "stderr",
     "output_type": "stream",
     "text": [
      "<ipython-input-14-fdc96aa6bdb1>:1: SettingWithCopyWarning: \n",
      "A value is trying to be set on a copy of a slice from a DataFrame.\n",
      "Try using .loc[row_indexer,col_indexer] = value instead\n",
      "\n",
      "See the caveats in the documentation: https://pandas.pydata.org/pandas-docs/stable/user_guide/indexing.html#returning-a-view-versus-a-copy\n",
      "  dataset['positive']=dataset['absolute_tidy_tweets'].apply(label_positive)\n"
     ]
    }
   ],
   "source": [
    "dataset['positive']=dataset['absolute_tidy_tweets'].apply(label_positive)"
   ]
  },
  {
   "cell_type": "code",
   "execution_count": 15,
   "id": "superior-supplier",
   "metadata": {},
   "outputs": [
    {
     "data": {
      "text/html": [
       "<div>\n",
       "<style scoped>\n",
       "    .dataframe tbody tr th:only-of-type {\n",
       "        vertical-align: middle;\n",
       "    }\n",
       "\n",
       "    .dataframe tbody tr th {\n",
       "        vertical-align: top;\n",
       "    }\n",
       "\n",
       "    .dataframe thead th {\n",
       "        text-align: right;\n",
       "    }\n",
       "</style>\n",
       "<table border=\"1\" class=\"dataframe\">\n",
       "  <thead>\n",
       "    <tr style=\"text-align: right;\">\n",
       "      <th></th>\n",
       "      <th>absolute_tidy_tweets</th>\n",
       "      <th>stopped_tweets</th>\n",
       "      <th>positive</th>\n",
       "    </tr>\n",
       "  </thead>\n",
       "  <tbody>\n",
       "    <tr>\n",
       "      <th>0</th>\n",
       "      <td>academicbreaknow</td>\n",
       "      <td>academicbreaknow</td>\n",
       "      <td>0</td>\n",
       "    </tr>\n",
       "    <tr>\n",
       "      <th>1</th>\n",
       "      <td>Hello AcademicTwitter You need to have a rest ...</td>\n",
       "      <td>hello academictwitter need rest activate best ...</td>\n",
       "      <td>2</td>\n",
       "    </tr>\n",
       "    <tr>\n",
       "      <th>2</th>\n",
       "      <td>lunes nanaman bukas academicbreaknow</td>\n",
       "      <td>lunes nanaman bukas academicbreaknow</td>\n",
       "      <td>0</td>\n",
       "    </tr>\n",
       "    <tr>\n",
       "      <th>3</th>\n",
       "      <td>AcademicBreakNow gusto q na tapusin Wednesday</td>\n",
       "      <td>academicbreaknow q tapusin wednesday</td>\n",
       "      <td>1</td>\n",
       "    </tr>\n",
       "    <tr>\n",
       "      <th>4</th>\n",
       "      <td>super delay na ako sa tbw list ko academicbrea...</td>\n",
       "      <td>super delay tbw list academicbreaknow</td>\n",
       "      <td>1</td>\n",
       "    </tr>\n",
       "    <tr>\n",
       "      <th>...</th>\n",
       "      <td>...</td>\n",
       "      <td>...</td>\n",
       "      <td>...</td>\n",
       "    </tr>\n",
       "    <tr>\n",
       "      <th>29588</th>\n",
       "      <td>si taylor nay nag implement ug academic break</td>\n",
       "      <td>si taylor nay nag implement ug academic break</td>\n",
       "      <td>0</td>\n",
       "    </tr>\n",
       "    <tr>\n",
       "      <th>29589</th>\n",
       "      <td>Actually Lenin wasn t peer reviewed by establi...</td>\n",
       "      <td>actually lenin peer reviewed established acade...</td>\n",
       "      <td>2</td>\n",
       "    </tr>\n",
       "    <tr>\n",
       "      <th>29590</th>\n",
       "      <td>Academic break plss</td>\n",
       "      <td>academic break plss</td>\n",
       "      <td>0</td>\n",
       "    </tr>\n",
       "    <tr>\n",
       "      <th>29591</th>\n",
       "      <td>tangina hirap magpa chill chill hahaha daming ...</td>\n",
       "      <td>tangina hirap magpa chill chill hahaha daming ...</td>\n",
       "      <td>0</td>\n",
       "    </tr>\n",
       "    <tr>\n",
       "      <th>29592</th>\n",
       "      <td>Nakakatuwa ang tamad ko pero gusto ko ng acade...</td>\n",
       "      <td>nakakatuwa tamad academic freeze ganito putangina</td>\n",
       "      <td>1</td>\n",
       "    </tr>\n",
       "  </tbody>\n",
       "</table>\n",
       "<p>29592 rows × 3 columns</p>\n",
       "</div>"
      ],
      "text/plain": [
       "                                    absolute_tidy_tweets  \\\n",
       "0                                       academicbreaknow   \n",
       "1      Hello AcademicTwitter You need to have a rest ...   \n",
       "2                   lunes nanaman bukas academicbreaknow   \n",
       "3          AcademicBreakNow gusto q na tapusin Wednesday   \n",
       "4      super delay na ako sa tbw list ko academicbrea...   \n",
       "...                                                  ...   \n",
       "29588      si taylor nay nag implement ug academic break   \n",
       "29589  Actually Lenin wasn t peer reviewed by establi...   \n",
       "29590                                Academic break plss   \n",
       "29591  tangina hirap magpa chill chill hahaha daming ...   \n",
       "29592  Nakakatuwa ang tamad ko pero gusto ko ng acade...   \n",
       "\n",
       "                                          stopped_tweets  positive  \n",
       "0                                       academicbreaknow         0  \n",
       "1      hello academictwitter need rest activate best ...         2  \n",
       "2                   lunes nanaman bukas academicbreaknow         0  \n",
       "3                   academicbreaknow q tapusin wednesday         1  \n",
       "4                  super delay tbw list academicbreaknow         1  \n",
       "...                                                  ...       ...  \n",
       "29588      si taylor nay nag implement ug academic break         0  \n",
       "29589  actually lenin peer reviewed established acade...         2  \n",
       "29590                                academic break plss         0  \n",
       "29591  tangina hirap magpa chill chill hahaha daming ...         0  \n",
       "29592  nakakatuwa tamad academic freeze ganito putangina         1  \n",
       "\n",
       "[29592 rows x 3 columns]"
      ]
     },
     "execution_count": 15,
     "metadata": {},
     "output_type": "execute_result"
    }
   ],
   "source": [
    "dataset"
   ]
  },
  {
   "cell_type": "code",
   "execution_count": 16,
   "id": "tutorial-lover",
   "metadata": {},
   "outputs": [
    {
     "name": "stderr",
     "output_type": "stream",
     "text": [
      "<ipython-input-16-cac065d93d52>:1: SettingWithCopyWarning: \n",
      "A value is trying to be set on a copy of a slice from a DataFrame.\n",
      "Try using .loc[row_indexer,col_indexer] = value instead\n",
      "\n",
      "See the caveats in the documentation: https://pandas.pydata.org/pandas-docs/stable/user_guide/indexing.html#returning-a-view-versus-a-copy\n",
      "  dataset['negative']=dataset['absolute_tidy_tweets'].apply(label_negative)\n"
     ]
    }
   ],
   "source": [
    "dataset['negative']=dataset['absolute_tidy_tweets'].apply(label_negative)"
   ]
  },
  {
   "cell_type": "code",
   "execution_count": 17,
   "id": "fifty-nothing",
   "metadata": {},
   "outputs": [],
   "source": [
    "def count_token(text):\n",
    "    tk = WhitespaceTokenizer()\n",
    "    tokens = tk.tokenize(text)\n",
    "    tokens = [token.strip() for token in tokens]\n",
    "    count = len(tokens)\n",
    "    return count"
   ]
  },
  {
   "cell_type": "code",
   "execution_count": 18,
   "id": "victorian-revolution",
   "metadata": {},
   "outputs": [
    {
     "name": "stderr",
     "output_type": "stream",
     "text": [
      "<ipython-input-18-f2945d746861>:1: SettingWithCopyWarning: \n",
      "A value is trying to be set on a copy of a slice from a DataFrame.\n",
      "Try using .loc[row_indexer,col_indexer] = value instead\n",
      "\n",
      "See the caveats in the documentation: https://pandas.pydata.org/pandas-docs/stable/user_guide/indexing.html#returning-a-view-versus-a-copy\n",
      "  dataset['total']=dataset['absolute_tidy_tweets'].apply(count_token)\n"
     ]
    }
   ],
   "source": [
    "dataset['total']=dataset['absolute_tidy_tweets'].apply(count_token)"
   ]
  },
  {
   "cell_type": "code",
   "execution_count": 19,
   "id": "useful-maryland",
   "metadata": {},
   "outputs": [
    {
     "data": {
      "text/html": [
       "<div>\n",
       "<style scoped>\n",
       "    .dataframe tbody tr th:only-of-type {\n",
       "        vertical-align: middle;\n",
       "    }\n",
       "\n",
       "    .dataframe tbody tr th {\n",
       "        vertical-align: top;\n",
       "    }\n",
       "\n",
       "    .dataframe thead th {\n",
       "        text-align: right;\n",
       "    }\n",
       "</style>\n",
       "<table border=\"1\" class=\"dataframe\">\n",
       "  <thead>\n",
       "    <tr style=\"text-align: right;\">\n",
       "      <th></th>\n",
       "      <th>absolute_tidy_tweets</th>\n",
       "      <th>stopped_tweets</th>\n",
       "      <th>positive</th>\n",
       "      <th>negative</th>\n",
       "      <th>total</th>\n",
       "    </tr>\n",
       "  </thead>\n",
       "  <tbody>\n",
       "    <tr>\n",
       "      <th>0</th>\n",
       "      <td>academicbreaknow</td>\n",
       "      <td>academicbreaknow</td>\n",
       "      <td>0</td>\n",
       "      <td>0</td>\n",
       "      <td>1</td>\n",
       "    </tr>\n",
       "    <tr>\n",
       "      <th>1</th>\n",
       "      <td>Hello AcademicTwitter You need to have a rest ...</td>\n",
       "      <td>hello academictwitter need rest activate best ...</td>\n",
       "      <td>2</td>\n",
       "      <td>0</td>\n",
       "      <td>26</td>\n",
       "    </tr>\n",
       "    <tr>\n",
       "      <th>2</th>\n",
       "      <td>lunes nanaman bukas academicbreaknow</td>\n",
       "      <td>lunes nanaman bukas academicbreaknow</td>\n",
       "      <td>0</td>\n",
       "      <td>0</td>\n",
       "      <td>4</td>\n",
       "    </tr>\n",
       "    <tr>\n",
       "      <th>3</th>\n",
       "      <td>AcademicBreakNow gusto q na tapusin Wednesday</td>\n",
       "      <td>academicbreaknow q tapusin wednesday</td>\n",
       "      <td>1</td>\n",
       "      <td>0</td>\n",
       "      <td>6</td>\n",
       "    </tr>\n",
       "    <tr>\n",
       "      <th>4</th>\n",
       "      <td>super delay na ako sa tbw list ko academicbrea...</td>\n",
       "      <td>super delay tbw list academicbreaknow</td>\n",
       "      <td>1</td>\n",
       "      <td>-1</td>\n",
       "      <td>9</td>\n",
       "    </tr>\n",
       "    <tr>\n",
       "      <th>...</th>\n",
       "      <td>...</td>\n",
       "      <td>...</td>\n",
       "      <td>...</td>\n",
       "      <td>...</td>\n",
       "      <td>...</td>\n",
       "    </tr>\n",
       "    <tr>\n",
       "      <th>29588</th>\n",
       "      <td>si taylor nay nag implement ug academic break</td>\n",
       "      <td>si taylor nay nag implement ug academic break</td>\n",
       "      <td>0</td>\n",
       "      <td>-2</td>\n",
       "      <td>8</td>\n",
       "    </tr>\n",
       "    <tr>\n",
       "      <th>29589</th>\n",
       "      <td>Actually Lenin wasn t peer reviewed by establi...</td>\n",
       "      <td>actually lenin peer reviewed established acade...</td>\n",
       "      <td>2</td>\n",
       "      <td>-3</td>\n",
       "      <td>29</td>\n",
       "    </tr>\n",
       "    <tr>\n",
       "      <th>29590</th>\n",
       "      <td>Academic break plss</td>\n",
       "      <td>academic break plss</td>\n",
       "      <td>0</td>\n",
       "      <td>-1</td>\n",
       "      <td>3</td>\n",
       "    </tr>\n",
       "    <tr>\n",
       "      <th>29591</th>\n",
       "      <td>tangina hirap magpa chill chill hahaha daming ...</td>\n",
       "      <td>tangina hirap magpa chill chill hahaha daming ...</td>\n",
       "      <td>0</td>\n",
       "      <td>-6</td>\n",
       "      <td>14</td>\n",
       "    </tr>\n",
       "    <tr>\n",
       "      <th>29592</th>\n",
       "      <td>Nakakatuwa ang tamad ko pero gusto ko ng acade...</td>\n",
       "      <td>nakakatuwa tamad academic freeze ganito putangina</td>\n",
       "      <td>1</td>\n",
       "      <td>-3</td>\n",
       "      <td>16</td>\n",
       "    </tr>\n",
       "  </tbody>\n",
       "</table>\n",
       "<p>29592 rows × 5 columns</p>\n",
       "</div>"
      ],
      "text/plain": [
       "                                    absolute_tidy_tweets  \\\n",
       "0                                       academicbreaknow   \n",
       "1      Hello AcademicTwitter You need to have a rest ...   \n",
       "2                   lunes nanaman bukas academicbreaknow   \n",
       "3          AcademicBreakNow gusto q na tapusin Wednesday   \n",
       "4      super delay na ako sa tbw list ko academicbrea...   \n",
       "...                                                  ...   \n",
       "29588      si taylor nay nag implement ug academic break   \n",
       "29589  Actually Lenin wasn t peer reviewed by establi...   \n",
       "29590                                Academic break plss   \n",
       "29591  tangina hirap magpa chill chill hahaha daming ...   \n",
       "29592  Nakakatuwa ang tamad ko pero gusto ko ng acade...   \n",
       "\n",
       "                                          stopped_tweets  positive  negative  \\\n",
       "0                                       academicbreaknow         0         0   \n",
       "1      hello academictwitter need rest activate best ...         2         0   \n",
       "2                   lunes nanaman bukas academicbreaknow         0         0   \n",
       "3                   academicbreaknow q tapusin wednesday         1         0   \n",
       "4                  super delay tbw list academicbreaknow         1        -1   \n",
       "...                                                  ...       ...       ...   \n",
       "29588      si taylor nay nag implement ug academic break         0        -2   \n",
       "29589  actually lenin peer reviewed established acade...         2        -3   \n",
       "29590                                academic break plss         0        -1   \n",
       "29591  tangina hirap magpa chill chill hahaha daming ...         0        -6   \n",
       "29592  nakakatuwa tamad academic freeze ganito putangina         1        -3   \n",
       "\n",
       "       total  \n",
       "0          1  \n",
       "1         26  \n",
       "2          4  \n",
       "3          6  \n",
       "4          9  \n",
       "...      ...  \n",
       "29588      8  \n",
       "29589     29  \n",
       "29590      3  \n",
       "29591     14  \n",
       "29592     16  \n",
       "\n",
       "[29592 rows x 5 columns]"
      ]
     },
     "execution_count": 19,
     "metadata": {},
     "output_type": "execute_result"
    }
   ],
   "source": [
    "dataset"
   ]
  },
  {
   "cell_type": "markdown",
   "id": "running-choice",
   "metadata": {},
   "source": [
    "# Compute for Sentiment Score\n",
    "* 1 to 0.5 — generally positive sentiment\n",
    "* 0.5 to -0.5 — neutral sentiment\n",
    "* -0.5 to -1 — negative sentiment"
   ]
  },
  {
   "cell_type": "code",
   "execution_count": 20,
   "id": "innocent-throw",
   "metadata": {
    "scrolled": true
   },
   "outputs": [],
   "source": [
    "# dataset['StSc'] = (dataset.positive + dataset.negative)/dataset.total"
   ]
  },
  {
   "cell_type": "code",
   "execution_count": 21,
   "id": "scheduled-devices",
   "metadata": {},
   "outputs": [
    {
     "name": "stderr",
     "output_type": "stream",
     "text": [
      "<ipython-input-21-b74707eab58f>:1: SettingWithCopyWarning: \n",
      "A value is trying to be set on a copy of a slice from a DataFrame.\n",
      "Try using .loc[row_indexer,col_indexer] = value instead\n",
      "\n",
      "See the caveats in the documentation: https://pandas.pydata.org/pandas-docs/stable/user_guide/indexing.html#returning-a-view-versus-a-copy\n",
      "  dataset['StSc'] = (dataset.positive + dataset.negative)/(dataset.positive - dataset.negative)\n"
     ]
    }
   ],
   "source": [
    "dataset['StSc'] = (dataset.positive + dataset.negative)/(dataset.positive - dataset.negative)"
   ]
  },
  {
   "cell_type": "code",
   "execution_count": 22,
   "id": "metallic-election",
   "metadata": {},
   "outputs": [
    {
     "data": {
      "text/html": [
       "<div>\n",
       "<style scoped>\n",
       "    .dataframe tbody tr th:only-of-type {\n",
       "        vertical-align: middle;\n",
       "    }\n",
       "\n",
       "    .dataframe tbody tr th {\n",
       "        vertical-align: top;\n",
       "    }\n",
       "\n",
       "    .dataframe thead th {\n",
       "        text-align: right;\n",
       "    }\n",
       "</style>\n",
       "<table border=\"1\" class=\"dataframe\">\n",
       "  <thead>\n",
       "    <tr style=\"text-align: right;\">\n",
       "      <th></th>\n",
       "      <th>absolute_tidy_tweets</th>\n",
       "      <th>stopped_tweets</th>\n",
       "      <th>positive</th>\n",
       "      <th>negative</th>\n",
       "      <th>total</th>\n",
       "      <th>StSc</th>\n",
       "    </tr>\n",
       "  </thead>\n",
       "  <tbody>\n",
       "    <tr>\n",
       "      <th>0</th>\n",
       "      <td>academicbreaknow</td>\n",
       "      <td>academicbreaknow</td>\n",
       "      <td>0</td>\n",
       "      <td>0</td>\n",
       "      <td>1</td>\n",
       "      <td>NaN</td>\n",
       "    </tr>\n",
       "    <tr>\n",
       "      <th>1</th>\n",
       "      <td>Hello AcademicTwitter You need to have a rest ...</td>\n",
       "      <td>hello academictwitter need rest activate best ...</td>\n",
       "      <td>2</td>\n",
       "      <td>0</td>\n",
       "      <td>26</td>\n",
       "      <td>1.0</td>\n",
       "    </tr>\n",
       "    <tr>\n",
       "      <th>2</th>\n",
       "      <td>lunes nanaman bukas academicbreaknow</td>\n",
       "      <td>lunes nanaman bukas academicbreaknow</td>\n",
       "      <td>0</td>\n",
       "      <td>0</td>\n",
       "      <td>4</td>\n",
       "      <td>NaN</td>\n",
       "    </tr>\n",
       "    <tr>\n",
       "      <th>3</th>\n",
       "      <td>AcademicBreakNow gusto q na tapusin Wednesday</td>\n",
       "      <td>academicbreaknow q tapusin wednesday</td>\n",
       "      <td>1</td>\n",
       "      <td>0</td>\n",
       "      <td>6</td>\n",
       "      <td>1.0</td>\n",
       "    </tr>\n",
       "    <tr>\n",
       "      <th>4</th>\n",
       "      <td>super delay na ako sa tbw list ko academicbrea...</td>\n",
       "      <td>super delay tbw list academicbreaknow</td>\n",
       "      <td>1</td>\n",
       "      <td>-1</td>\n",
       "      <td>9</td>\n",
       "      <td>0.0</td>\n",
       "    </tr>\n",
       "    <tr>\n",
       "      <th>...</th>\n",
       "      <td>...</td>\n",
       "      <td>...</td>\n",
       "      <td>...</td>\n",
       "      <td>...</td>\n",
       "      <td>...</td>\n",
       "      <td>...</td>\n",
       "    </tr>\n",
       "    <tr>\n",
       "      <th>29588</th>\n",
       "      <td>si taylor nay nag implement ug academic break</td>\n",
       "      <td>si taylor nay nag implement ug academic break</td>\n",
       "      <td>0</td>\n",
       "      <td>-2</td>\n",
       "      <td>8</td>\n",
       "      <td>-1.0</td>\n",
       "    </tr>\n",
       "    <tr>\n",
       "      <th>29589</th>\n",
       "      <td>Actually Lenin wasn t peer reviewed by establi...</td>\n",
       "      <td>actually lenin peer reviewed established acade...</td>\n",
       "      <td>2</td>\n",
       "      <td>-3</td>\n",
       "      <td>29</td>\n",
       "      <td>-0.2</td>\n",
       "    </tr>\n",
       "    <tr>\n",
       "      <th>29590</th>\n",
       "      <td>Academic break plss</td>\n",
       "      <td>academic break plss</td>\n",
       "      <td>0</td>\n",
       "      <td>-1</td>\n",
       "      <td>3</td>\n",
       "      <td>-1.0</td>\n",
       "    </tr>\n",
       "    <tr>\n",
       "      <th>29591</th>\n",
       "      <td>tangina hirap magpa chill chill hahaha daming ...</td>\n",
       "      <td>tangina hirap magpa chill chill hahaha daming ...</td>\n",
       "      <td>0</td>\n",
       "      <td>-6</td>\n",
       "      <td>14</td>\n",
       "      <td>-1.0</td>\n",
       "    </tr>\n",
       "    <tr>\n",
       "      <th>29592</th>\n",
       "      <td>Nakakatuwa ang tamad ko pero gusto ko ng acade...</td>\n",
       "      <td>nakakatuwa tamad academic freeze ganito putangina</td>\n",
       "      <td>1</td>\n",
       "      <td>-3</td>\n",
       "      <td>16</td>\n",
       "      <td>-0.5</td>\n",
       "    </tr>\n",
       "  </tbody>\n",
       "</table>\n",
       "<p>29592 rows × 6 columns</p>\n",
       "</div>"
      ],
      "text/plain": [
       "                                    absolute_tidy_tweets  \\\n",
       "0                                       academicbreaknow   \n",
       "1      Hello AcademicTwitter You need to have a rest ...   \n",
       "2                   lunes nanaman bukas academicbreaknow   \n",
       "3          AcademicBreakNow gusto q na tapusin Wednesday   \n",
       "4      super delay na ako sa tbw list ko academicbrea...   \n",
       "...                                                  ...   \n",
       "29588      si taylor nay nag implement ug academic break   \n",
       "29589  Actually Lenin wasn t peer reviewed by establi...   \n",
       "29590                                Academic break plss   \n",
       "29591  tangina hirap magpa chill chill hahaha daming ...   \n",
       "29592  Nakakatuwa ang tamad ko pero gusto ko ng acade...   \n",
       "\n",
       "                                          stopped_tweets  positive  negative  \\\n",
       "0                                       academicbreaknow         0         0   \n",
       "1      hello academictwitter need rest activate best ...         2         0   \n",
       "2                   lunes nanaman bukas academicbreaknow         0         0   \n",
       "3                   academicbreaknow q tapusin wednesday         1         0   \n",
       "4                  super delay tbw list academicbreaknow         1        -1   \n",
       "...                                                  ...       ...       ...   \n",
       "29588      si taylor nay nag implement ug academic break         0        -2   \n",
       "29589  actually lenin peer reviewed established acade...         2        -3   \n",
       "29590                                academic break plss         0        -1   \n",
       "29591  tangina hirap magpa chill chill hahaha daming ...         0        -6   \n",
       "29592  nakakatuwa tamad academic freeze ganito putangina         1        -3   \n",
       "\n",
       "       total  StSc  \n",
       "0          1   NaN  \n",
       "1         26   1.0  \n",
       "2          4   NaN  \n",
       "3          6   1.0  \n",
       "4          9   0.0  \n",
       "...      ...   ...  \n",
       "29588      8  -1.0  \n",
       "29589     29  -0.2  \n",
       "29590      3  -1.0  \n",
       "29591     14  -1.0  \n",
       "29592     16  -0.5  \n",
       "\n",
       "[29592 rows x 6 columns]"
      ]
     },
     "execution_count": 22,
     "metadata": {},
     "output_type": "execute_result"
    }
   ],
   "source": [
    "dataset"
   ]
  },
  {
   "cell_type": "code",
   "execution_count": 23,
   "id": "focused-times",
   "metadata": {},
   "outputs": [],
   "source": [
    "dataset.to_csv('Sentiment_score.csv')"
   ]
  },
  {
   "cell_type": "markdown",
   "id": "governing-ferry",
   "metadata": {},
   "source": [
    "# Label Sentiment"
   ]
  },
  {
   "cell_type": "code",
   "execution_count": 24,
   "id": "accurate-cabinet",
   "metadata": {},
   "outputs": [],
   "source": [
    "# def label_sentiment(score):\n",
    "#     sentiment = 0\n",
    "#     if score >= 0.05:\n",
    "#         sentiment = 1\n",
    "#     elif score < 0.05 and score > -0.05:\n",
    "#         sentiment = 0\n",
    "#     else:\n",
    "#         sentiment = -1\n",
    "#     return sentiment\n"
   ]
  },
  {
   "cell_type": "code",
   "execution_count": 25,
   "id": "south-retention",
   "metadata": {},
   "outputs": [],
   "source": [
    "def label_sentiment(score):\n",
    "    sentiment = 0\n",
    "    if score > 0:\n",
    "        sentiment = 1\n",
    "    elif score == 0:\n",
    "        sentiment = 0\n",
    "    elif score < 0:\n",
    "        sentiment = -1\n",
    "    else:\n",
    "        sentiment = 2\n",
    "    return sentiment\n"
   ]
  },
  {
   "cell_type": "code",
   "execution_count": 26,
   "id": "miniature-pilot",
   "metadata": {},
   "outputs": [
    {
     "name": "stderr",
     "output_type": "stream",
     "text": [
      "<ipython-input-26-69cb48c79455>:1: SettingWithCopyWarning: \n",
      "A value is trying to be set on a copy of a slice from a DataFrame.\n",
      "Try using .loc[row_indexer,col_indexer] = value instead\n",
      "\n",
      "See the caveats in the documentation: https://pandas.pydata.org/pandas-docs/stable/user_guide/indexing.html#returning-a-view-versus-a-copy\n",
      "  dataset['sentiment']=dataset['StSc'].apply(label_sentiment)\n"
     ]
    }
   ],
   "source": [
    "dataset['sentiment']=dataset['StSc'].apply(label_sentiment)"
   ]
  },
  {
   "cell_type": "code",
   "execution_count": 28,
   "id": "sunset-steam",
   "metadata": {},
   "outputs": [],
   "source": [
    "dataset.to_csv('Sentiment_1.csv')"
   ]
  },
  {
   "cell_type": "code",
   "execution_count": 29,
   "id": "competitive-association",
   "metadata": {},
   "outputs": [
    {
     "data": {
      "text/plain": [
       " 2    11667\n",
       "-1    11038\n",
       " 1     4035\n",
       " 0     2852\n",
       "Name: sentiment, dtype: int64"
      ]
     },
     "execution_count": 29,
     "metadata": {},
     "output_type": "execute_result"
    }
   ],
   "source": [
    "dataset['sentiment'].value_counts()"
   ]
  },
  {
   "cell_type": "code",
   "execution_count": null,
   "id": "speaking-binding",
   "metadata": {},
   "outputs": [],
   "source": []
  },
  {
   "cell_type": "code",
   "execution_count": null,
   "id": "excess-boundary",
   "metadata": {},
   "outputs": [],
   "source": []
  }
 ],
 "metadata": {
  "kernelspec": {
   "display_name": "Python 3 (ipykernel)",
   "language": "python",
   "name": "python3"
  },
  "language_info": {
   "codemirror_mode": {
    "name": "ipython",
    "version": 3
   },
   "file_extension": ".py",
   "mimetype": "text/x-python",
   "name": "python",
   "nbconvert_exporter": "python",
   "pygments_lexer": "ipython3",
   "version": "3.9.13"
  }
 },
 "nbformat": 4,
 "nbformat_minor": 5
}
