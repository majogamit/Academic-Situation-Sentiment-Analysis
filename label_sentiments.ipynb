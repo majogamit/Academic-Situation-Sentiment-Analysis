{
 "cells": [
  {
   "cell_type": "markdown",
   "id": "marine-actress",
   "metadata": {},
   "source": [
    "## Label Sentiments"
   ]
  },
  {
   "cell_type": "code",
   "execution_count": 3,
   "id": "respective-electricity",
   "metadata": {},
   "outputs": [],
   "source": [
    "# main libraries\n",
    "import numpy as np\n",
    "import pandas as pd\n",
    "import matplotlib.pyplot as plt\n",
    "import seaborn as sns\n",
    "import nltk\n",
    "\n",
    "# For Data processing/cleaning\n",
    "from sklearn.feature_extraction.text import CountVectorizer\n",
    "from sklearn.preprocessing import LabelBinarizer\n",
    "from nltk.corpus import stopwords\n",
    "from nltk.stem.porter import PorterStemmer\n",
    "from wordcloud import STOPWORDS\n",
    "from bs4 import BeautifulSoup\n",
    "import re\n",
    "from nltk.tokenize.toktok import ToktokTokenizer\n",
    "import os\n",
    "import warnings\n"
   ]
  },
  {
   "cell_type": "code",
   "execution_count": 6,
   "id": "black-monster",
   "metadata": {},
   "outputs": [],
   "source": [
    "from numpy import loadtxt\n",
    "\n",
    "#import text file into NumPy array\n",
    "neg_fil = loadtxt('negative_words_tl.txt', dtype='object')\n",
    "pos_fil = loadtxt('positive_words_tl.txt', dtype='object')\n",
    "badwords_fil = [\"amputa\",\"animal ka\",\"bilat\",\"binibrocha\",\"bobo\",\"bogo\",\"boto\",\"brocha\",\"burat\",\"bwesit\",\"bwisit\",\"demonyo ka\",\"engot\",\"etits\",\"gaga\",\"gagi\",\"gago\",\"habal\",\"hayop ka\",\"hayup\",\"hinampak\",\"hinayupak\",\"hindot\",\"hindutan\",\"hudas\",\"iniyot\",\"inutel\",\"inutil\",\"iyot\",\"kagaguhan\",\"kagang\",\"kantot\",\"kantotan\",\"kantut\",\"kantutan\",\"kaululan\",\"kayat\",\"kiki\",\"kikinginamo\",\"kingina\",\"kupal\",\"leche\",\"leching\",\"lechugas\",\"lintik\",\"nakakaburat\",\"nimal\",\"ogag\",\"olok\",\"pakingshet\",\"pakshet\",\"pakyu\",\"pesteng yawa\",\"poke\",\"poki\",\"pokpok\",\"poyet\",\"pu'keng\",\"pucha\",\"puchanggala\",\"puchangina\",\"puke\",\"puki\",\"pukinangina\",\"puking\",\"punyeta\",\"puta\",\"putang\",\"putang ina\",\"putangina\",\"putanginamo\",\"putaragis\",\"putragis\",\"puyet\",\"ratbu\",\"shunga\",\"sira ulo\",\"siraulo\",\"suso\",\"susu\",\"tae\",\"taena\",\"tamod\",\"tanga\",\"tangina\",\"taragis\",\"tarantado\",\"tete\",\"teti\",\"timang\",\"tinil\",\"tite\",\"titi\",\"tungaw\",\"ulol\",\"ulul\",\"ungas\"]"
   ]
  },
  {
   "cell_type": "code",
   "execution_count": 7,
   "id": "floppy-executive",
   "metadata": {},
   "outputs": [],
   "source": [
    "neg_fil = np.concatenate((neg_fil, badwords))"
   ]
  },
  {
   "cell_type": "code",
   "execution_count": 9,
   "id": "ambient-cartridge",
   "metadata": {},
   "outputs": [],
   "source": [
    "neg_eng = loadtxt('negative_words_en.txt', dtype='object')\n",
    "pos_eng = loadtxt('positive_words_en.txt', dtype='object')"
   ]
  },
  {
   "cell_type": "code",
   "execution_count": null,
   "id": "beautiful-latter",
   "metadata": {},
   "outputs": [],
   "source": [
    "negative_data"
   ]
  }
 ],
 "metadata": {
  "kernelspec": {
   "display_name": "Python 3 (ipykernel)",
   "language": "python",
   "name": "python3"
  },
  "language_info": {
   "codemirror_mode": {
    "name": "ipython",
    "version": 3
   },
   "file_extension": ".py",
   "mimetype": "text/x-python",
   "name": "python",
   "nbconvert_exporter": "python",
   "pygments_lexer": "ipython3",
   "version": "3.9.13"
  }
 },
 "nbformat": 4,
 "nbformat_minor": 5
}
