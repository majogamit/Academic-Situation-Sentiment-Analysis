{
 "cells": [
  {
   "cell_type": "code",
   "execution_count": 3,
   "id": "colonial-aside",
   "metadata": {},
   "outputs": [],
   "source": [
    "from __future__ import print_function\n",
    "\n",
    "from keras.preprocessing import sequence\n",
    "from keras.models import Sequential\n",
    "from keras.layers import Dense, Embedding, LSTM\n",
    "from keras.datasets import imdb\n",
    "\n",
    "import numpy as np\n",
    "import pandas as pd\n",
    "\n",
    "import matplotlib.pyplot as plt\n",
    "%matplotlib inline"
   ]
  },
  {
   "cell_type": "code",
   "execution_count": 4,
   "id": "limiting-torture",
   "metadata": {},
   "outputs": [],
   "source": [
    "data = pd.read_csv('final_less_stopwords.csv')"
   ]
  },
  {
   "cell_type": "code",
   "execution_count": 8,
   "id": "extensive-harassment",
   "metadata": {},
   "outputs": [
    {
     "ename": "SyntaxError",
     "evalue": "invalid syntax (<ipython-input-8-012cd931144d>, line 6)",
     "output_type": "error",
     "traceback": [
      "\u001b[1;36m  File \u001b[1;32m\"<ipython-input-8-012cd931144d>\"\u001b[1;36m, line \u001b[1;32m6\u001b[0m\n\u001b[1;33m    (x_train, y_train), (x_test, y_test) = data[num_words=MAX_FEATURES]\u001b[0m\n\u001b[1;37m                                                         ^\u001b[0m\n\u001b[1;31mSyntaxError\u001b[0m\u001b[1;31m:\u001b[0m invalid syntax\n"
     ]
    }
   ],
   "source": [
    "MAX_FEATURES = 20000\n",
    "# cut texts after this number of words (among top MAX_FEATURES most common words)\n",
    "MAX_SENTENCE_LENGTH = 80\n",
    "\n",
    "print('Loading data...')\n",
    "(x_train, y_train), (x_test, y_test) = data.(num_words=MAX_FEATURES)\n",
    "print(len(x_train), 'train sequences')\n",
    "print(len(x_test), 'test sequences')\n",
    "\n",
    "# View one example of our dataset before our preprocessing.\n",
    "print(\"\\n\\nExample one before our preprocessing\")\n",
    "print(x_train[0])\n",
    "\n",
    "print('\\n\\nPad sequences (samples x time)')\n",
    "x_train = sequence.pad_sequences(x_train, maxlen=MAX_SENTENCE_LENGTH)\n",
    "x_test = sequence.pad_sequences(x_test, maxlen=MAX_SENTENCE_LENGTH)\n",
    "print('x_train shape:', x_train.shape)\n",
    "print('x_test shape:', x_test.shape)\n",
    "\n",
    "# View one example of our dataset after our preprocessing.\n",
    "print(\"\\n\\nExample one after our preprocessing\")\n",
    "print(x_train[0])"
   ]
  },
  {
   "cell_type": "code",
   "execution_count": null,
   "id": "classical-liver",
   "metadata": {},
   "outputs": [],
   "source": []
  }
 ],
 "metadata": {
  "kernelspec": {
   "display_name": "Python 3 (ipykernel)",
   "language": "python",
   "name": "python3"
  },
  "language_info": {
   "codemirror_mode": {
    "name": "ipython",
    "version": 3
   },
   "file_extension": ".py",
   "mimetype": "text/x-python",
   "name": "python",
   "nbconvert_exporter": "python",
   "pygments_lexer": "ipython3",
   "version": "3.9.13"
  }
 },
 "nbformat": 4,
 "nbformat_minor": 5
}
