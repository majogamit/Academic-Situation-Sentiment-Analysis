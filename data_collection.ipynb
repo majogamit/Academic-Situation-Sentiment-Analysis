{
 "cells": [
  {
   "cell_type": "markdown",
   "id": "attended-biodiversity",
   "metadata": {},
   "source": [
    "## Data Collection"
   ]
  },
  {
   "cell_type": "markdown",
   "id": "worth-peninsula",
   "metadata": {},
   "source": [
    "snsrape allow us to get historical data from twitter unlike other library that only fetches data from the past week."
   ]
  },
  {
   "cell_type": "code",
   "execution_count": null,
   "id": "liquid-bangladesh",
   "metadata": {},
   "outputs": [],
   "source": []
  }
 ],
 "metadata": {
  "kernelspec": {
   "display_name": "Python 3 (ipykernel)",
   "language": "python",
   "name": "python3"
  },
  "language_info": {
   "codemirror_mode": {
    "name": "ipython",
    "version": 3
   },
   "file_extension": ".py",
   "mimetype": "text/x-python",
   "name": "python",
   "nbconvert_exporter": "python",
   "pygments_lexer": "ipython3",
   "version": "3.9.13"
  }
 },
 "nbformat": 4,
 "nbformat_minor": 5
}
