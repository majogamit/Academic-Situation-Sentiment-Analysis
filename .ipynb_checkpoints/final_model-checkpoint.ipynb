{
 "cells": [
  {
   "cell_type": "code",
   "execution_count": null,
   "id": "greek-comparative",
   "metadata": {},
   "outputs": [],
   "source": [
    "# import necessary libraries\n",
    "import numpy as np\n",
    "import pandas as pd\n",
    "from sklearn.model_selection import train_test_split\n",
    "from imblearn.over_sampling import SMOTE\n",
    "from keras.preprocessing.text import Tokenizer\n",
    "from keras_preprocessing.sequence import pad_sequences\n",
    "from keras.models import Sequential\n",
    "from keras.layers import Embedding, LSTM, Bidirectional, Dense\n",
    "from keras.callbacks import EarlyStopping\n",
    "import matplotlib.pyplot as plt\n",
    "%matplotlib inline"
   ]
  },
  {
   "cell_type": "code",
   "execution_count": null,
   "id": "optical-professor",
   "metadata": {},
   "outputs": [],
   "source": [
    "# load the dataset\n",
    "data = pd.read_csv('SUPER_DATA.csv')"
   ]
  },
  {
   "cell_type": "code",
   "execution_count": null,
   "id": "convinced-prophet",
   "metadata": {},
   "outputs": [],
   "source": []
  },
  {
   "cell_type": "code",
   "execution_count": null,
   "id": "fitting-chair",
   "metadata": {},
   "outputs": [],
   "source": [
    "# tokenize the text\n",
    "tokenizer = Tokenizer()\n",
    "tokenizer.fit_on_texts(data[\"text\"])\n",
    "sequences = tokenizer.texts_to_sequences(data[\"text\"])\n",
    "\n",
    "# pad the sequences\n",
    "max_length = max([len(s) for s in sequences])\n",
    "padded_sequences = pad_sequences(sequences, maxlen=max_length)"
   ]
  },
  {
   "cell_type": "code",
   "execution_count": null,
   "id": "noble-ceramic",
   "metadata": {},
   "outputs": [],
   "source": [
    "# split the data into training and test sets\n",
    "X_train, X_test, y_train, y_test = train_test_split(padded_sequences, data[\"sentiment\"], test_size=0.33, random_state=0)"
   ]
  },
  {
   "cell_type": "code",
   "execution_count": null,
   "id": "political-universal",
   "metadata": {},
   "outputs": [],
   "source": [
    "# oversample the minority class (positive examples) using SMOTE\n",
    "sm = SMOTE(sampling_strategy='minority',random_state=42)\n",
    "X_train, y_train = sm.fit_resample(X_train, y_train)\n"
   ]
  },
  {
   "cell_type": "code",
   "execution_count": null,
   "id": "ordinary-fitness",
   "metadata": {},
   "outputs": [],
   "source": [
    "# create the LSTM model\n",
    "model = Sequential()\n",
    "model.add(Embedding(len(tokenizer.word_index)+1, 100, input_length=max_length))\n",
    "model.add(LSTM(100, dropout=0.2, recurrent_dropout=0.2))\n",
    "model.add(Dense(1, activation='sigmoid'))"
   ]
  },
  {
   "cell_type": "code",
   "execution_count": null,
   "id": "alien-statistics",
   "metadata": {},
   "outputs": [],
   "source": [
    "# compile the model\n",
    "model.compile(loss='binary_crossentropy', optimizer='adam', metrics=['accuracy'])"
   ]
  },
  {
   "cell_type": "code",
   "execution_count": null,
   "id": "noted-hardwood",
   "metadata": {},
   "outputs": [],
   "source": [
    "# train the model\n",
    "early_stopping = EarlyStopping(monitor='val_loss', patience=2)\n",
    "history = model.fit(X_train, y_train, batch_size=32, epochs=7, validation_data=(X_test, y_test), callbacks=[early_stopping]) #, callbacks=[early_stopping]\n",
    "\n",
    "\n"
   ]
  },
  {
   "cell_type": "code",
   "execution_count": null,
   "id": "operational-array",
   "metadata": {},
   "outputs": [],
   "source": [
    "# visualize the accuracy and loss of the training and test sets\n",
    "plt.plot(history.history['accuracy'])\n",
    "plt.plot(history.history['val_accuracy'])\n",
    "plt.title('Model accuracy')\n",
    "plt.ylabel('Accuracy')\n",
    "plt.xlabel('Epoch')\n",
    "plt.legend(['Train', 'Test'], loc='upper left')\n",
    "plt.show()\n"
   ]
  },
  {
   "cell_type": "code",
   "execution_count": null,
   "id": "extraordinary-textbook",
   "metadata": {},
   "outputs": [],
   "source": [
    "plt.plot(history.history['loss'])\n",
    "plt.plot(history.history['val_loss'])\n",
    "plt.title('Model loss')\n",
    "plt.ylabel('Loss')\n",
    "plt.xlabel('Epoch')\n",
    "plt.legend(['Train', 'Test'], loc='upper left')\n",
    "plt.show()"
   ]
  },
  {
   "cell_type": "code",
   "execution_count": null,
   "id": "considered-refrigerator",
   "metadata": {},
   "outputs": [],
   "source": [
    "# create the LSTM model\n",
    "model2 = Sequential()\n",
    "model2.add(Embedding(input_dim=len(tokenizer.word_index)+1, output_dim=100, input_length=max_length))\n",
    "model2.add(Bidirectional(LSTM(64)))\n",
    "model2.add(Dense(1, activation='sigmoid'))"
   ]
  },
  {
   "cell_type": "code",
   "execution_count": null,
   "id": "verbal-leonard",
   "metadata": {},
   "outputs": [],
   "source": [
    "# compile the model\n",
    "model2.compile(loss='binary_crossentropy', optimizer='adam', metrics=['accuracy'])"
   ]
  },
  {
   "cell_type": "code",
   "execution_count": null,
   "id": "billion-filter",
   "metadata": {},
   "outputs": [],
   "source": [
    "# train the model\n",
    "early_stopping2 = EarlyStopping(monitor='val_loss', patience=2)\n",
    "history2 = model2.fit(X_train, y_train, batch_size=32, epochs=7, validation_data=(X_test, y_test), callbacks=[early_stopping]) #callbacks=[early_stopping]\n"
   ]
  },
  {
   "cell_type": "code",
   "execution_count": null,
   "id": "jewish-desktop",
   "metadata": {},
   "outputs": [],
   "source": [
    "# visualize the accuracy and loss of the training and test sets\n",
    "plt.plot(history2.history['accuracy'])\n",
    "plt.plot(history2.history['val_accuracy'])\n",
    "plt.title('BiLSTM Model accuracy')\n",
    "plt.ylabel('Accuracy')\n",
    "plt.xlabel('Epoch')\n",
    "plt.legend(['Train', 'Test'], loc='upper left')\n",
    "plt.show()\n"
   ]
  },
  {
   "cell_type": "code",
   "execution_count": null,
   "id": "dirty-electron",
   "metadata": {},
   "outputs": [],
   "source": [
    "plt.plot(history2.history['loss'])\n",
    "plt.plot(history2.history['val_loss'])\n",
    "plt.title('BiLSTM Model loss')\n",
    "plt.ylabel('Loss')\n",
    "plt.xlabel('Epoch')\n",
    "plt.legend(['Train', 'Test'], loc='upper left')\n",
    "plt.show()"
   ]
  },
  {
   "cell_type": "code",
   "execution_count": null,
   "id": "developing-program",
   "metadata": {},
   "outputs": [],
   "source": [
    "from sklearn.metrics import precision_recall_fscore_support, confusion_matrix"
   ]
  },
  {
   "cell_type": "code",
   "execution_count": null,
   "id": "anticipated-meditation",
   "metadata": {},
   "outputs": [],
   "source": [
    "# Make predictions on the test data\n",
    "predictions = model.predict(X_test)\n",
    "\n",
    "# Round the predictions to the nearest class label\n",
    "predicted_labels = np.round(predictions)"
   ]
  },
  {
   "cell_type": "code",
   "execution_count": null,
   "id": "vulnerable-percentage",
   "metadata": {},
   "outputs": [],
   "source": [
    "# Calculate precision, recall, f1-score, and support\n",
    "precision, recall, f1_score, _ = precision_recall_fscore_support(y_test, predicted_labels, average='binary')\n",
    "\n",
    "# Print the results\n",
    "print(\"Precision: \", precision)\n",
    "print(\"Recall: \", recall)\n",
    "print(\"F1-Score: \", f1_score)"
   ]
  },
  {
   "cell_type": "code",
   "execution_count": null,
   "id": "aerial-oxford",
   "metadata": {},
   "outputs": [],
   "source": [
    "# get the confusion matrix\n",
    "conf = confusion_matrix(y_test, predicted_labels)\n",
    "print(conf)"
   ]
  },
  {
   "cell_type": "code",
   "execution_count": null,
   "id": "measured-authorization",
   "metadata": {},
   "outputs": [],
   "source": [
    "# Make predictions on the test data\n",
    "predictions = model2.predict(X_test)\n",
    "\n",
    "# Round the predictions to the nearest class label\n",
    "predicted_labels2 = np.round(predictions)"
   ]
  },
  {
   "cell_type": "code",
   "execution_count": null,
   "id": "endless-twins",
   "metadata": {},
   "outputs": [],
   "source": [
    "# Calculate precision, recall, f1-score, and support\n",
    "precision2, recall2, f1_score2, _ = precision_recall_fscore_support(y_test, predicted_labels2, average='binary')\n",
    "\n",
    "# Print the results\n",
    "print(\"Precision: \", precision2)\n",
    "print(\"Recall: \", recall2)\n",
    "print(\"F1-Score: \", f1_score2)"
   ]
  },
  {
   "cell_type": "code",
   "execution_count": null,
   "id": "neutral-escape",
   "metadata": {},
   "outputs": [],
   "source": [
    "# get the confusion matrix\n",
    "cf2 = confusion_matrix(y_test, predicted_labels2)\n",
    "print(cf2)"
   ]
  },
  {
   "cell_type": "code",
   "execution_count": null,
   "id": "concrete-jumping",
   "metadata": {},
   "outputs": [],
   "source": []
  }
 ],
 "metadata": {
  "kernelspec": {
   "display_name": "Python 3 (ipykernel)",
   "language": "python",
   "name": "python3"
  },
  "language_info": {
   "codemirror_mode": {
    "name": "ipython",
    "version": 3
   },
   "file_extension": ".py",
   "mimetype": "text/x-python",
   "name": "python",
   "nbconvert_exporter": "python",
   "pygments_lexer": "ipython3",
   "version": "3.9.13"
  }
 },
 "nbformat": 4,
 "nbformat_minor": 5
}
