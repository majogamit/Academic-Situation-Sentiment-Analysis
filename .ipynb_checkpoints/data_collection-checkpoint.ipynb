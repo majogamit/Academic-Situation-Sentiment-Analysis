{
 "cells": [
  {
   "cell_type": "markdown",
   "id": "viral-intake",
   "metadata": {},
   "source": [
    "## Data Collection"
   ]
  },
  {
   "cell_type": "markdown",
   "id": "circular-return",
   "metadata": {},
   "source": [
    "snsrape allow us to get historical data from twitter unlike other library that only fetches data from the past week."
   ]
  },
  {
   "cell_type": "code",
   "execution_count": 2,
   "id": "confident-meter",
   "metadata": {},
   "outputs": [],
   "source": [
    "import snscrape.modules.twitter as sntwitter\n",
    "import pandas as pd"
   ]
  },
  {
   "cell_type": "code",
   "execution_count": 3,
   "id": "conservative-poultry",
   "metadata": {},
   "outputs": [],
   "source": [
    "df = pd.DataFrame()"
   ]
  },
  {
   "cell_type": "code",
   "execution_count": 4,
   "id": "interested-differential",
   "metadata": {},
   "outputs": [],
   "source": [
    "#List all hashtags we want to scrape\n",
    "hashtags = [\"AcademicBreakNow\", \"AcademicFreezeNow\", \"Pagodnakami\",\"Academicbreak\", \"AcademicEaseNow\", \"AcadBreak\", \"AcadEase\", \"AcademicFreeze\", \"Academic_break\", \"academic_freeze\"]"
   ]
  },
  {
   "cell_type": "code",
   "execution_count": 6,
   "id": "mental-texas",
   "metadata": {},
   "outputs": [
    {
     "name": "stderr",
     "output_type": "stream",
     "text": [
      "<ipython-input-6-42c996cb0b0c>:13: FutureWarning: username is deprecated, use user.username instead\n",
      "  tweets.append([tweet.date, tweet.username, tweet.content])\n"
     ]
    }
   ],
   "source": [
    "for i in range(len(hashtags)):\n",
    "    query = f\"{hashtags[i]} until:2022-12-01 since:2020-01-01 -filter:retweets\"\n",
    "    tweets = []\n",
    "\n",
    "    limit =  5000 # how many tweets which you wanna extract\n",
    "\n",
    "    for tweet in sntwitter.TwitterSearchScraper(query).get_items():\n",
    "    #     print(vars(tweet))\n",
    "    #     break\n",
    "        if len(tweets) == limit:\n",
    "            break\n",
    "        else:\n",
    "            tweets.append([tweet.date, tweet.username, tweet.content])\n",
    "    df = df.append(tweets)"
   ]
  },
  {
   "cell_type": "code",
   "execution_count": 7,
   "id": "sonic-danish",
   "metadata": {},
   "outputs": [],
   "source": [
    "df.columns = ['date', 'user', 'text']"
   ]
  },
  {
   "cell_type": "code",
   "execution_count": 9,
   "id": "printable-skill",
   "metadata": {},
   "outputs": [
    {
     "data": {
      "text/html": [
       "<div>\n",
       "<style scoped>\n",
       "    .dataframe tbody tr th:only-of-type {\n",
       "        vertical-align: middle;\n",
       "    }\n",
       "\n",
       "    .dataframe tbody tr th {\n",
       "        vertical-align: top;\n",
       "    }\n",
       "\n",
       "    .dataframe thead th {\n",
       "        text-align: right;\n",
       "    }\n",
       "</style>\n",
       "<table border=\"1\" class=\"dataframe\">\n",
       "  <thead>\n",
       "    <tr style=\"text-align: right;\">\n",
       "      <th></th>\n",
       "      <th>date</th>\n",
       "      <th>user</th>\n",
       "      <th>text</th>\n",
       "    </tr>\n",
       "  </thead>\n",
       "  <tbody>\n",
       "    <tr>\n",
       "      <th>0</th>\n",
       "      <td>2022-11-29 04:15:58+00:00</td>\n",
       "      <td>maffyolfato</td>\n",
       "      <td>#academicbreaknow</td>\n",
       "    </tr>\n",
       "    <tr>\n",
       "      <th>1</th>\n",
       "      <td>2022-11-27 12:18:49+00:00</td>\n",
       "      <td>researcheff</td>\n",
       "      <td>Hello, #AcademicTwitter,\\n\\n🎙️\"You need to hav...</td>\n",
       "    </tr>\n",
       "    <tr>\n",
       "      <th>2</th>\n",
       "      <td>2022-11-27 10:30:42+00:00</td>\n",
       "      <td>dprleanne</td>\n",
       "      <td>lunes nanaman bukas #academicbreaknow</td>\n",
       "    </tr>\n",
       "    <tr>\n",
       "      <th>3</th>\n",
       "      <td>2022-11-27 09:02:47+00:00</td>\n",
       "      <td>ericakieraa</td>\n",
       "      <td>#AcademicBreakNow gusto q na tapusin Wednesday</td>\n",
       "    </tr>\n",
       "    <tr>\n",
       "      <th>4</th>\n",
       "      <td>2022-11-25 13:30:42+00:00</td>\n",
       "      <td>qin_ina</td>\n",
       "      <td>super delay na ako sa tbw list ko #academicbre...</td>\n",
       "    </tr>\n",
       "    <tr>\n",
       "      <th>...</th>\n",
       "      <td>...</td>\n",
       "      <td>...</td>\n",
       "      <td>...</td>\n",
       "    </tr>\n",
       "    <tr>\n",
       "      <th>4995</th>\n",
       "      <td>2021-04-18 12:55:48+00:00</td>\n",
       "      <td>klowidulos</td>\n",
       "      <td>We really went from \"Academic Freeze\" to \"Acad...</td>\n",
       "    </tr>\n",
       "    <tr>\n",
       "      <th>4996</th>\n",
       "      <td>2021-04-18 12:26:08+00:00</td>\n",
       "      <td>itsrows_</td>\n",
       "      <td>drained :'(((\\nacademic freeze pls</td>\n",
       "    </tr>\n",
       "    <tr>\n",
       "      <th>4997</th>\n",
       "      <td>2021-04-18 12:09:28+00:00</td>\n",
       "      <td>AYJIMpng</td>\n",
       "      <td>@seoulseokjoon yep, mapapatanong ka nalang nan...</td>\n",
       "    </tr>\n",
       "    <tr>\n",
       "      <th>4998</th>\n",
       "      <td>2021-04-18 08:05:18+00:00</td>\n",
       "      <td>elleganceee</td>\n",
       "      <td>'di raw nagsisi pero academic freeze raw HAHZA...</td>\n",
       "    </tr>\n",
       "    <tr>\n",
       "      <th>4999</th>\n",
       "      <td>2021-04-18 01:37:02+00:00</td>\n",
       "      <td>akifplrs</td>\n",
       "      <td>Nakakatuwa ang tamad ko pero gusto ko ng acade...</td>\n",
       "    </tr>\n",
       "  </tbody>\n",
       "</table>\n",
       "<p>36701 rows × 3 columns</p>\n",
       "</div>"
      ],
      "text/plain": [
       "                          date         user  \\\n",
       "0    2022-11-29 04:15:58+00:00  maffyolfato   \n",
       "1    2022-11-27 12:18:49+00:00  researcheff   \n",
       "2    2022-11-27 10:30:42+00:00    dprleanne   \n",
       "3    2022-11-27 09:02:47+00:00  ericakieraa   \n",
       "4    2022-11-25 13:30:42+00:00      qin_ina   \n",
       "...                        ...          ...   \n",
       "4995 2021-04-18 12:55:48+00:00   klowidulos   \n",
       "4996 2021-04-18 12:26:08+00:00     itsrows_   \n",
       "4997 2021-04-18 12:09:28+00:00     AYJIMpng   \n",
       "4998 2021-04-18 08:05:18+00:00  elleganceee   \n",
       "4999 2021-04-18 01:37:02+00:00     akifplrs   \n",
       "\n",
       "                                                   text  \n",
       "0                                     #academicbreaknow  \n",
       "1     Hello, #AcademicTwitter,\\n\\n🎙️\"You need to hav...  \n",
       "2                 lunes nanaman bukas #academicbreaknow  \n",
       "3        #AcademicBreakNow gusto q na tapusin Wednesday  \n",
       "4     super delay na ako sa tbw list ko #academicbre...  \n",
       "...                                                 ...  \n",
       "4995  We really went from \"Academic Freeze\" to \"Acad...  \n",
       "4996                 drained :'(((\\nacademic freeze pls  \n",
       "4997  @seoulseokjoon yep, mapapatanong ka nalang nan...  \n",
       "4998  'di raw nagsisi pero academic freeze raw HAHZA...  \n",
       "4999  Nakakatuwa ang tamad ko pero gusto ko ng acade...  \n",
       "\n",
       "[36701 rows x 3 columns]"
      ]
     },
     "execution_count": 9,
     "metadata": {},
     "output_type": "execute_result"
    }
   ],
   "source": [
    "df"
   ]
  },
  {
   "cell_type": "code",
   "execution_count": null,
   "id": "enclosed-library",
   "metadata": {},
   "outputs": [],
   "source": []
  }
 ],
 "metadata": {
  "kernelspec": {
   "display_name": "Python 3 (ipykernel)",
   "language": "python",
   "name": "python3"
  },
  "language_info": {
   "codemirror_mode": {
    "name": "ipython",
    "version": 3
   },
   "file_extension": ".py",
   "mimetype": "text/x-python",
   "name": "python",
   "nbconvert_exporter": "python",
   "pygments_lexer": "ipython3",
   "version": "3.9.13"
  }
 },
 "nbformat": 4,
 "nbformat_minor": 5
}
