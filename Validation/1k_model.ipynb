{
 "cells": [
  {
   "cell_type": "code",
   "execution_count": 1,
   "id": "minor-unemployment",
   "metadata": {},
   "outputs": [],
   "source": [
    "# import necessary libraries\n",
    "import numpy as np\n",
    "import pandas as pd\n",
    "from sklearn.model_selection import train_test_split\n",
    "from imblearn.over_sampling import SMOTE\n",
    "from keras.preprocessing.text import Tokenizer\n",
    "from keras_preprocessing.sequence import pad_sequences\n",
    "from keras.models import Sequential\n",
    "from keras.layers import Embedding, LSTM, Bidirectional, Dense\n",
    "from keras.callbacks import EarlyStopping\n",
    "import matplotlib.pyplot as plt\n",
    "%matplotlib inline\n",
    "import re"
   ]
  },
  {
   "cell_type": "code",
   "execution_count": 2,
   "id": "minimal-madonna",
   "metadata": {},
   "outputs": [],
   "source": [
    "# load the dataset\n",
    "data = pd.read_csv('final_less_stopwords.csv')"
   ]
  },
  {
   "cell_type": "code",
   "execution_count": 3,
   "id": "absolute-capitol",
   "metadata": {},
   "outputs": [
    {
     "name": "stderr",
     "output_type": "stream",
     "text": [
      "<ipython-input-3-2a58f03204e6>:1: FutureWarning: The default value of regex will change from True to False in a future version.\n",
      "  data['text'] = data['text'].str.replace(\"[^a-zA-Z#]\", \" \")\n"
     ]
    }
   ],
   "source": [
    "data['text'] = data['text'].str.replace(\"[^a-zA-Z#]\", \" \")"
   ]
  },
  {
   "cell_type": "code",
   "execution_count": 4,
   "id": "final-bachelor",
   "metadata": {},
   "outputs": [
    {
     "data": {
      "text/plain": [
       "Unnamed: 0    False\n",
       "text           True\n",
       "sentiment     False\n",
       "dtype: bool"
      ]
     },
     "execution_count": 4,
     "metadata": {},
     "output_type": "execute_result"
    }
   ],
   "source": [
    "data.isna().any()"
   ]
  },
  {
   "cell_type": "code",
   "execution_count": 5,
   "id": "sapphire-crystal",
   "metadata": {},
   "outputs": [],
   "source": [
    "data = data.dropna()"
   ]
  },
  {
   "cell_type": "code",
   "execution_count": 6,
   "id": "crude-christianity",
   "metadata": {},
   "outputs": [],
   "source": [
    "def remove_pattern(text,pattern):\n",
    "    \n",
    "    # re.findall() finds the pattern i.e @user and puts it in a list for further task\n",
    "    r = re.findall(pattern,text)\n",
    "    \n",
    "    # re.sub() removes @user from the sentences in the dataset\n",
    "    for i in r:\n",
    "        text = re.sub(i,\"\",text)\n",
    "    \n",
    "    return text"
   ]
  },
  {
   "cell_type": "code",
   "execution_count": 7,
   "id": "specific-merchandise",
   "metadata": {},
   "outputs": [],
   "source": [
    "data['text'] = np.vectorize(remove_pattern)(data['text'], \"@[\\w]*\")"
   ]
  },
  {
   "cell_type": "code",
   "execution_count": 8,
   "id": "spread-resource",
   "metadata": {},
   "outputs": [],
   "source": [
    "data.to_csv('SuperData.csv')"
   ]
  },
  {
   "cell_type": "code",
   "execution_count": 9,
   "id": "danish-pantyhose",
   "metadata": {},
   "outputs": [],
   "source": [
    "# tokenize the text\n",
    "tokenizer = Tokenizer()\n",
    "tokenizer.fit_on_texts(data[\"text\"])\n",
    "sequences = tokenizer.texts_to_sequences(data[\"text\"])\n",
    "\n",
    "# pad the sequences\n",
    "max_length = max([len(s) for s in sequences])\n",
    "padded_sequences = pad_sequences(sequences, maxlen=max_length)"
   ]
  },
  {
   "cell_type": "code",
   "execution_count": 10,
   "id": "specialized-marking",
   "metadata": {},
   "outputs": [],
   "source": [
    "# split the data into training and test sets\n",
    "X_train, X_test, y_train, y_test = train_test_split(padded_sequences, data[\"sentiment\"], test_size=0.33, random_state=0)"
   ]
  },
  {
   "cell_type": "code",
   "execution_count": 11,
   "id": "southeast-serial",
   "metadata": {},
   "outputs": [],
   "source": [
    "# oversample the minority class (positive examples) using SMOTE\n",
    "sm = SMOTE(sampling_strategy='minority',random_state=42)\n",
    "X_train, y_train = sm.fit_resample(X_train, y_train)\n"
   ]
  },
  {
   "cell_type": "code",
   "execution_count": 12,
   "id": "danish-trade",
   "metadata": {},
   "outputs": [],
   "source": [
    "# create the LSTM model\n",
    "model = Sequential()\n",
    "model.add(Embedding(len(tokenizer.word_index)+1, 100, input_length=max_length))\n",
    "model.add(LSTM(100, dropout=0.2, recurrent_dropout=0.2))\n",
    "model.add(Dense(1, activation='sigmoid'))"
   ]
  },
  {
   "cell_type": "code",
   "execution_count": 13,
   "id": "strong-horror",
   "metadata": {},
   "outputs": [],
   "source": [
    "# compile the model\n",
    "model.compile(loss='binary_crossentropy', optimizer='adam', metrics=['accuracy'])"
   ]
  },
  {
   "cell_type": "code",
   "execution_count": 14,
   "id": "smart-mining",
   "metadata": {},
   "outputs": [
    {
     "name": "stdout",
     "output_type": "stream",
     "text": [
      "Epoch 1/7\n",
      "21/21 [==============================] - 5s 97ms/step - loss: 0.6620 - accuracy: 0.6722 - val_loss: 0.6333 - val_accuracy: 0.6728\n",
      "Epoch 2/7\n",
      "21/21 [==============================] - 2s 74ms/step - loss: 0.5451 - accuracy: 0.7335 - val_loss: 0.5195 - val_accuracy: 0.7187\n",
      "Epoch 3/7\n",
      "21/21 [==============================] - 2s 72ms/step - loss: 0.3907 - accuracy: 0.8368 - val_loss: 0.4287 - val_accuracy: 0.8104\n",
      "Epoch 4/7\n",
      "21/21 [==============================] - 1s 71ms/step - loss: 0.2134 - accuracy: 0.9416 - val_loss: 0.3397 - val_accuracy: 0.8807\n",
      "Epoch 5/7\n",
      "21/21 [==============================] - 2s 72ms/step - loss: 0.1144 - accuracy: 0.9581 - val_loss: 0.3572 - val_accuracy: 0.8318\n",
      "Epoch 6/7\n",
      "21/21 [==============================] - 2s 72ms/step - loss: 0.0788 - accuracy: 0.9835 - val_loss: 0.2909 - val_accuracy: 0.8960\n",
      "Epoch 7/7\n",
      "21/21 [==============================] - 2s 72ms/step - loss: 0.0523 - accuracy: 0.9910 - val_loss: 0.2976 - val_accuracy: 0.8899\n"
     ]
    }
   ],
   "source": [
    "# train the model\n",
    "early_stopping = EarlyStopping(monitor='val_loss', patience=2)\n",
    "history = model.fit(X_train, y_train, batch_size=32, epochs=7, validation_data=(X_test, y_test), callbacks=[early_stopping]) #, callbacks=[early_stopping]\n",
    "\n",
    "\n"
   ]
  },
  {
   "cell_type": "code",
   "execution_count": 15,
   "id": "sharp-bradford",
   "metadata": {},
   "outputs": [
    {
     "data": {
      "image/png": "[encoded data removed]",
      "text/plain": [
       "<Figure size 432x288 with 1 Axes>"
      ]
     },
     "metadata": {
      "needs_background": "light"
     },
     "output_type": "display_data"
    }
   ],
   "source": [
    "# visualize the accuracy and loss of the training and test sets\n",
    "plt.plot(history.history['accuracy'])\n",
    "plt.plot(history.history['val_accuracy'])\n",
    "plt.title('Model accuracy')\n",
    "plt.ylabel('Accuracy')\n",
    "plt.xlabel('Epoch')\n",
    "plt.legend(['Train', 'Test'], loc='upper left')\n",
    "plt.show()\n"
   ]
  },
  {
   "cell_type": "code",
   "execution_count": 16,
   "id": "progressive-baking",
   "metadata": {},
   "outputs": [
    {
     "data": {
      "image/png": "[encoded data removed]",
      "text/plain": [
       "<Figure size 432x288 with 1 Axes>"
      ]
     },
     "metadata": {
      "needs_background": "light"
     },
     "output_type": "display_data"
    }
   ],
   "source": [
    "plt.plot(history.history['loss'])\n",
    "plt.plot(history.history['val_loss'])\n",
    "plt.title('Model loss')\n",
    "plt.ylabel('Loss')\n",
    "plt.xlabel('Epoch')\n",
    "plt.legend(['Train', 'Test'], loc='upper left')\n",
    "plt.show()"
   ]
  },
  {
   "cell_type": "code",
   "execution_count": 17,
   "id": "level-allergy",
   "metadata": {},
   "outputs": [],
   "source": [
    "# create the LSTM model\n",
    "model2 = Sequential()\n",
    "model2.add(Embedding(input_dim=len(tokenizer.word_index)+1, output_dim=100, input_length=max_length))\n",
    "model2.add(Bidirectional(LSTM(64)))\n",
    "model2.add(Dense(1, activation='sigmoid'))"
   ]
  },
  {
   "cell_type": "code",
   "execution_count": 18,
   "id": "affecting-christian",
   "metadata": {},
   "outputs": [],
   "source": [
    "# compile the model\n",
    "model2.compile(loss='binary_crossentropy', optimizer='adam', metrics=['accuracy'])"
   ]
  },
  {
   "cell_type": "code",
   "execution_count": 19,
   "id": "completed-novelty",
   "metadata": {},
   "outputs": [
    {
     "name": "stdout",
     "output_type": "stream",
     "text": [
      "Epoch 1/7\n",
      "21/21 [==============================] - 5s 80ms/step - loss: 0.6677 - accuracy: 0.6692 - val_loss: 0.6382 - val_accuracy: 0.6820\n",
      "Epoch 2/7\n",
      "21/21 [==============================] - 1s 31ms/step - loss: 0.5596 - accuracy: 0.7410 - val_loss: 0.6056 - val_accuracy: 0.6728\n",
      "Epoch 3/7\n",
      "21/21 [==============================] - 1s 34ms/step - loss: 0.4275 - accuracy: 0.8114 - val_loss: 0.4552 - val_accuracy: 0.7859\n",
      "Epoch 4/7\n",
      "21/21 [==============================] - 1s 31ms/step - loss: 0.2222 - accuracy: 0.9281 - val_loss: 0.3488 - val_accuracy: 0.8685\n",
      "Epoch 5/7\n",
      "21/21 [==============================] - 1s 30ms/step - loss: 0.1122 - accuracy: 0.9491 - val_loss: 0.7052 - val_accuracy: 0.6208\n",
      "Epoch 6/7\n",
      "21/21 [==============================] - 1s 32ms/step - loss: 0.1414 - accuracy: 0.9491 - val_loss: 0.3511 - val_accuracy: 0.8716\n"
     ]
    }
   ],
   "source": [
    "# train the model\n",
    "early_stopping2 = EarlyStopping(monitor='val_loss', patience=2)\n",
    "history2 = model2.fit(X_train, y_train, batch_size=32, epochs=7, validation_data=(X_test, y_test), callbacks=[early_stopping]) #\n"
   ]
  },
  {
   "cell_type": "code",
   "execution_count": 20,
   "id": "republican-veteran",
   "metadata": {},
   "outputs": [
    {
     "data": {
      "image/png": "[encoded data removed]",
      "text/plain": [
       "<Figure size 432x288 with 1 Axes>"
      ]
     },
     "metadata": {
      "needs_background": "light"
     },
     "output_type": "display_data"
    }
   ],
   "source": [
    "# visualize the accuracy and loss of the training and test sets\n",
    "plt.plot(history2.history['accuracy'])\n",
    "plt.plot(history2.history['val_accuracy'])\n",
    "plt.title('BiLSTM Model accuracy')\n",
    "plt.ylabel('Accuracy')\n",
    "plt.xlabel('Epoch')\n",
    "plt.legend(['Train', 'Test'], loc='upper left')\n",
    "plt.show()\n"
   ]
  },
  {
   "cell_type": "code",
   "execution_count": 21,
   "id": "valued-trigger",
   "metadata": {},
   "outputs": [
    {
     "data": {
      "image/png": "[encoded data removed]",
      "text/plain": [
       "<Figure size 432x288 with 1 Axes>"
      ]
     },
     "metadata": {
      "needs_background": "light"
     },
     "output_type": "display_data"
    }
   ],
   "source": [
    "plt.plot(history2.history['loss'])\n",
    "plt.plot(history2.history['val_loss'])\n",
    "plt.title('BiLSTM Model loss')\n",
    "plt.ylabel('Loss')\n",
    "plt.xlabel('Epoch')\n",
    "plt.legend(['Train', 'Test'], loc='upper left')\n",
    "plt.show()"
   ]
  },
  {
   "cell_type": "code",
   "execution_count": 22,
   "id": "brown-usage",
   "metadata": {},
   "outputs": [],
   "source": [
    "from sklearn.metrics import precision_recall_fscore_support, confusion_matrix"
   ]
  },
  {
   "cell_type": "code",
   "execution_count": 23,
   "id": "color-plant",
   "metadata": {},
   "outputs": [
    {
     "name": "stdout",
     "output_type": "stream",
     "text": [
      "11/11 [==============================] - 0s 10ms/step\n"
     ]
    }
   ],
   "source": [
    "# Make predictions on the test data\n",
    "predictions = model.predict(X_test)\n",
    "\n",
    "# Round the predictions to the nearest class label\n",
    "predicted_labels = np.round(predictions)"
   ]
  },
  {
   "cell_type": "code",
   "execution_count": 24,
   "id": "helpful-mention",
   "metadata": {},
   "outputs": [
    {
     "name": "stdout",
     "output_type": "stream",
     "text": [
      "Precision:  0.9\n",
      "Recall:  0.8780487804878049\n",
      "F1-Score:  0.888888888888889\n"
     ]
    }
   ],
   "source": [
    "# Calculate precision, recall, f1-score, and support\n",
    "precision, recall, f1_score, _ = precision_recall_fscore_support(y_test, predicted_labels, average='binary')\n",
    "\n",
    "# Print the results\n",
    "print(\"Precision: \", precision)\n",
    "print(\"Recall: \", recall)\n",
    "print(\"F1-Score: \", f1_score)"
   ]
  },
  {
   "cell_type": "code",
   "execution_count": 25,
   "id": "demonstrated-disaster",
   "metadata": {},
   "outputs": [
    {
     "name": "stdout",
     "output_type": "stream",
     "text": [
      "[[147  16]\n",
      " [ 20 144]]\n"
     ]
    }
   ],
   "source": [
    "# get the confusion matrix\n",
    "conf = confusion_matrix(y_test, predicted_labels)\n",
    "print(conf)"
   ]
  },
  {
   "cell_type": "code",
   "execution_count": 26,
   "id": "formal-allergy",
   "metadata": {},
   "outputs": [
    {
     "name": "stdout",
     "output_type": "stream",
     "text": [
      "11/11 [==============================] - 1s 9ms/step\n"
     ]
    }
   ],
   "source": [
    "# Make predictions on the test data\n",
    "predictions = model2.predict(X_test)\n",
    "\n",
    "# Round the predictions to the nearest class label\n",
    "predicted_labels2 = np.round(predictions)"
   ]
  },
  {
   "cell_type": "code",
   "execution_count": 27,
   "id": "destroyed-publisher",
   "metadata": {},
   "outputs": [
    {
     "name": "stdout",
     "output_type": "stream",
     "text": [
      "Precision:  0.9236111111111112\n",
      "Recall:  0.8109756097560976\n",
      "F1-Score:  0.8636363636363636\n"
     ]
    }
   ],
   "source": [
    "# Calculate precision, recall, f1-score, and support\n",
    "precision2, recall2, f1_score2, _ = precision_recall_fscore_support(y_test, predicted_labels2, average='binary')\n",
    "\n",
    "# Print the results\n",
    "print(\"Precision: \", precision2)\n",
    "print(\"Recall: \", recall2)\n",
    "print(\"F1-Score: \", f1_score2)"
   ]
  },
  {
   "cell_type": "code",
   "execution_count": 28,
   "id": "fifth-county",
   "metadata": {},
   "outputs": [
    {
     "name": "stdout",
     "output_type": "stream",
     "text": [
      "[[152  11]\n",
      " [ 31 133]]\n"
     ]
    }
   ],
   "source": [
    "# get the confusion matrix\n",
    "cf2 = confusion_matrix(y_test, predicted_labels2)\n",
    "print(cf2)"
   ]
  },
  {
   "cell_type": "code",
   "execution_count": null,
   "id": "talented-conflict",
   "metadata": {},
   "outputs": [],
   "source": []
  }
 ],
 "metadata": {
  "kernelspec": {
   "display_name": "Python 3 (ipykernel)",
   "language": "python",
   "name": "python3"
  },
  "language_info": {
   "codemirror_mode": {
    "name": "ipython",
    "version": 3
   },
   "file_extension": ".py",
   "mimetype": "text/x-python",
   "name": "python",
   "nbconvert_exporter": "python",
   "pygments_lexer": "ipython3",
   "version": "3.9.13"
  }
 },
 "nbformat": 4,
 "nbformat_minor": 5
}
