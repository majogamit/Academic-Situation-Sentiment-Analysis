{
 "cells": [
  {
   "cell_type": "code",
   "execution_count": 1,
   "id": "recognized-immunology",
   "metadata": {},
   "outputs": [],
   "source": [
    "import pandas as pd\n",
    "import matplotlib.pyplot as plt\n",
    "import numpy as np"
   ]
  },
  {
   "cell_type": "code",
   "execution_count": 16,
   "id": "limiting-touch",
   "metadata": {},
   "outputs": [
    {
     "data": {
      "image/png": "[encoded data removed]",
      "text/plain": [
       "<Figure size 432x288 with 1 Axes>"
      ]
     },
     "metadata": {
      "needs_background": "light"
     },
     "output_type": "display_data"
    }
   ],
   "source": [
    "import matplotlib.pyplot as plt\n",
    "\n",
    "# Data for dataset LSTM\n",
    "train_accuracy_1 = 0.9399\n",
    "val_accuracy_1 = 0.7584\n",
    "\n",
    "# Data for Bilstm imbalanced\n",
    "train_accuracy_2 = 0.9535\n",
    "val_accuracy_2 = 0.7508\n",
    "\n",
    "# Data for lstm balanced\n",
    "train_accuracy_3 = 0.9870\n",
    "val_accuracy_3 = 0.8082\n",
    "\n",
    "\n",
    "# Data for Bilstm balanced\n",
    "train_accuracy_4 = 0.9885\n",
    "val_accuracy_4 = 0.8044\n",
    "\n",
    "\n",
    "\n",
    "# LSTM\n",
    "x = ['LSTM Imbalanced', 'BiLSTM Imbalanced', 'LSTM Balanced', 'BiLSTM Balanced']\n",
    "lstm_u = [train_accuracy_1, train_accuracy_2,train_accuracy_3, train_accuracy_4]\n",
    "bilstm_u = [val_accuracy_1, val_accuracy_2, val_accuracy_3, val_accuracy_4]\n",
    "\n",
    "\n",
    "fig = plt.figure()\n",
    "ax = fig.add_axes([0,0,1,1])\n",
    "ax.bar(x, lstm_u, color='#295f48', label='Training')\n",
    "ax.bar(x, bilstm_u, color='pink', label='Validation')\n",
    "plt.legend(loc='upper left')\n",
    "plt.xlabel('Model and Dataset')\n",
    "plt.ylabel('Accuracy')\n",
    "\n",
    "\n",
    "# plt.title('Training And Testing Accuracy of LSTM and BiLSTM on Imbalanced and Balanced Datasets')\n",
    "plt.show()\n"
   ]
  },
  {
   "cell_type": "code",
   "execution_count": null,
   "id": "bright-camel",
   "metadata": {},
   "outputs": [],
   "source": []
  }
 ],
 "metadata": {
  "kernelspec": {
   "display_name": "Python 3 (ipykernel)",
   "language": "python",
   "name": "python3"
  },
  "language_info": {
   "codemirror_mode": {
    "name": "ipython",
    "version": 3
   },
   "file_extension": ".py",
   "mimetype": "text/x-python",
   "name": "python",
   "nbconvert_exporter": "python",
   "pygments_lexer": "ipython3",
   "version": "3.9.13"
  }
 },
 "nbformat": 4,
 "nbformat_minor": 5
}
