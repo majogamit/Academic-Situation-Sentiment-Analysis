{
 "cells": [
  {
   "cell_type": "code",
   "execution_count": 1,
   "id": "noticed-genetics",
   "metadata": {},
   "outputs": [],
   "source": [
    "import pandas as pd\n",
    "import numpy as np\n",
    "import matplotlib.pyplot as plt"
   ]
  },
  {
   "cell_type": "markdown",
   "id": "going-disposal",
   "metadata": {},
   "source": [
    "# Validate using manually Annotated Data"
   ]
  },
  {
   "cell_type": "code",
   "execution_count": 2,
   "id": "purple-paragraph",
   "metadata": {},
   "outputs": [],
   "source": [
    "# import necessary libraries\n",
    "import numpy as np\n",
    "import pandas as pd\n",
    "from sklearn.model_selection import train_test_split\n",
    "from imblearn.over_sampling import SMOTE\n",
    "from keras.preprocessing.text import Tokenizer\n",
    "from keras_preprocessing.sequence import pad_sequences\n",
    "from keras.models import Sequential\n",
    "from keras.layers import Embedding, LSTM, Bidirectional, Dense\n",
    "from keras.callbacks import EarlyStopping\n",
    "import matplotlib.pyplot as plt\n",
    "%matplotlib inline"
   ]
  },
  {
   "cell_type": "markdown",
   "id": "behind-listening",
   "metadata": {},
   "source": [
    "# LSTM"
   ]
  },
  {
   "cell_type": "code",
   "execution_count": 3,
   "id": "damaged-squad",
   "metadata": {},
   "outputs": [],
   "source": [
    "from keras.models import load_model\n",
    "model = load_model('undersample_LSTM_model.h5')"
   ]
  },
  {
   "cell_type": "code",
   "execution_count": 4,
   "id": "racial-source",
   "metadata": {},
   "outputs": [],
   "source": [
    "one_k = pd.read_csv('validate_onek.csv')"
   ]
  },
  {
   "cell_type": "code",
   "execution_count": 5,
   "id": "improving-insertion",
   "metadata": {},
   "outputs": [],
   "source": [
    "tokenizer = Tokenizer()\n",
    "tokenizer.fit_on_texts(one_k[\"text\"])\n",
    "sequences_val = tokenizer.texts_to_sequences(one_k[\"text\"])"
   ]
  },
  {
   "cell_type": "code",
   "execution_count": 6,
   "id": "fossil-scottish",
   "metadata": {},
   "outputs": [],
   "source": [
    "padded_sequences_val = pad_sequences(sequences_val, maxlen=38)"
   ]
  },
  {
   "cell_type": "code",
   "execution_count": 7,
   "id": "forty-punishment",
   "metadata": {},
   "outputs": [],
   "source": [
    "one_k_test = one_k[\"sentiment\"]"
   ]
  },
  {
   "cell_type": "code",
   "execution_count": 8,
   "id": "representative-potter",
   "metadata": {},
   "outputs": [
    {
     "data": {
      "text/plain": [
       "(990, 38)"
      ]
     },
     "execution_count": 8,
     "metadata": {},
     "output_type": "execute_result"
    }
   ],
   "source": [
    "padded_sequences_val.shape"
   ]
  },
  {
   "cell_type": "code",
   "execution_count": 9,
   "id": "inside-words",
   "metadata": {},
   "outputs": [
    {
     "data": {
      "text/plain": [
       "(990,)"
      ]
     },
     "execution_count": 9,
     "metadata": {},
     "output_type": "execute_result"
    }
   ],
   "source": [
    "one_k_test.shape"
   ]
  },
  {
   "cell_type": "code",
   "execution_count": 10,
   "id": "emotional-marina",
   "metadata": {},
   "outputs": [
    {
     "name": "stdout",
     "output_type": "stream",
     "text": [
      "31/31 [==============================] - 1s 30ms/step\n"
     ]
    }
   ],
   "source": [
    "# Make predictions on the test data\n",
    "predictions = model.predict(padded_sequences_val)\n",
    "\n",
    "# Round the predictions to the nearest class label\n",
    "predicted_labels = np.round(predictions)"
   ]
  },
  {
   "cell_type": "code",
   "execution_count": 11,
   "id": "overall-manufacturer",
   "metadata": {},
   "outputs": [],
   "source": [
    "from sklearn.metrics import precision_recall_fscore_support, confusion_matrix, accuracy_score"
   ]
  },
  {
   "cell_type": "code",
   "execution_count": 12,
   "id": "narrow-threshold",
   "metadata": {},
   "outputs": [
    {
     "name": "stdout",
     "output_type": "stream",
     "text": [
      "Precision:  0.5088652482269503\n",
      "Recall:  0.5763052208835341\n",
      "F1-Score:  0.5404896421845574\n"
     ]
    }
   ],
   "source": [
    "# Calculate precision, recall, f1-score, and support\n",
    "precision, recall, f1_score, _ = precision_recall_fscore_support(one_k_test, predicted_labels, average='binary')\n",
    "\n",
    "# Print the results\n",
    "print(\"Precision: \", precision)\n",
    "print(\"Recall: \", recall)\n",
    "print(\"F1-Score: \", f1_score)"
   ]
  },
  {
   "cell_type": "code",
   "execution_count": 13,
   "id": "finite-senator",
   "metadata": {},
   "outputs": [
    {
     "name": "stdout",
     "output_type": "stream",
     "text": [
      "Accuracy: 0.5070707070707071\n"
     ]
    }
   ],
   "source": [
    "accuracy = accuracy_score(one_k_test, predicted_labels)\n",
    "print('Accuracy:', accuracy)"
   ]
  },
  {
   "cell_type": "markdown",
   "id": "prime-scanner",
   "metadata": {},
   "source": [
    "# BiLSTM"
   ]
  },
  {
   "cell_type": "code",
   "execution_count": 14,
   "id": "identical-wealth",
   "metadata": {},
   "outputs": [],
   "source": [
    "model2 = load_model('undersample_BiLSTM_model.h5')"
   ]
  },
  {
   "cell_type": "code",
   "execution_count": 15,
   "id": "endangered-spectrum",
   "metadata": {},
   "outputs": [
    {
     "name": "stdout",
     "output_type": "stream",
     "text": [
      "31/31 [==============================] - 2s 17ms/step\n"
     ]
    }
   ],
   "source": [
    "# Make predictions on the test data\n",
    "predictions2 = model2.predict(padded_sequences_val)\n",
    "\n",
    "# Round the predictions to the nearest class label\n",
    "predicted_labels2 = np.round(predictions2)"
   ]
  },
  {
   "cell_type": "code",
   "execution_count": 16,
   "id": "documented-plenty",
   "metadata": {},
   "outputs": [
    {
     "name": "stdout",
     "output_type": "stream",
     "text": [
      "Precision:  0.5217391304347826\n",
      "Recall:  0.6024096385542169\n",
      "F1-Score:  0.5591798695246971\n"
     ]
    }
   ],
   "source": [
    "# Calculate precision, recall, f1-score, and support\n",
    "precision2, recall2, f1_score2, _ = precision_recall_fscore_support(one_k_test, predicted_labels2, average='binary')\n",
    "\n",
    "# Print the results\n",
    "print(\"Precision: \", precision2)\n",
    "print(\"Recall: \", recall2)\n",
    "print(\"F1-Score: \", f1_score2)"
   ]
  },
  {
   "cell_type": "code",
   "execution_count": 17,
   "id": "capable-hepatitis",
   "metadata": {},
   "outputs": [
    {
     "name": "stdout",
     "output_type": "stream",
     "text": [
      "Accuracy: 0.5222222222222223\n"
     ]
    }
   ],
   "source": [
    "accuracy2 = accuracy_score(one_k_test, predicted_labels2)\n",
    "print('Accuracy:', accuracy2)"
   ]
  }
 ],
 "metadata": {
  "kernelspec": {
   "display_name": "Python 3 (ipykernel)",
   "language": "python",
   "name": "python3"
  },
  "language_info": {
   "codemirror_mode": {
    "name": "ipython",
    "version": 3
   },
   "file_extension": ".py",
   "mimetype": "text/x-python",
   "name": "python",
   "nbconvert_exporter": "python",
   "pygments_lexer": "ipython3",
   "version": "3.9.13"
  }
 },
 "nbformat": 4,
 "nbformat_minor": 5
}
